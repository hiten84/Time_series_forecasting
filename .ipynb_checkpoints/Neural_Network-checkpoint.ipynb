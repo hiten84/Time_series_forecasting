{
 "cells": [
  {
   "cell_type": "code",
   "execution_count": 156,
   "id": "d7a45f86-d6af-4056-955d-557b67795e1d",
   "metadata": {},
   "outputs": [],
   "source": [
    "import pandas as pd\n",
    "import numpy as np"
   ]
  },
  {
   "cell_type": "code",
   "execution_count": 157,
   "id": "709d5a45-fd9a-4198-a601-281a49cf0fb2",
   "metadata": {},
   "outputs": [],
   "source": [
    "df = pd.read_excel('cash_flow.xlsb', engine='pyxlsb')"
   ]
  },
  {
   "cell_type": "code",
   "execution_count": 158,
   "id": "934a1ac6-b211-4fb4-ad26-016767399d24",
   "metadata": {},
   "outputs": [],
   "source": [
    "df = df[['DT','OWNER','NET_DEMAND_ON','PAID_AMOUNT','NET_DEMAND_1', 'NET_DEMAND_2',\t'NET_DEMAND_3',\t'NET_DEMAND_4',\t'NET_DEMAND_5']]"
   ]
  },
  {
   "cell_type": "code",
   "execution_count": 159,
   "id": "e9328eba-cd0f-42f1-8916-2376443efb89",
   "metadata": {},
   "outputs": [],
   "source": [
    "df['PAID_AMOUNT'] = df['PAID_AMOUNT'].astype(float)\n",
    "df['NET_DEMAND_ON'] = df['NET_DEMAND_ON'].astype(float)\n",
    "df['NET_DEMAND_1'] = df['NET_DEMAND_1'].astype(float)\n",
    "df['NET_DEMAND_2'] = df['NET_DEMAND_2'].astype(float)\n",
    "df['NET_DEMAND_3'] = df['NET_DEMAND_3'].astype(float)\n",
    "df['NET_DEMAND_4'] = df['NET_DEMAND_4'].astype(float)\n",
    "df['NET_DEMAND_5'] = df['NET_DEMAND_5'].astype(float)"
   ]
  },
  {
   "cell_type": "code",
   "execution_count": 160,
   "id": "7e21c817-e5e0-425e-9cfc-6d798d81ad13",
   "metadata": {},
   "outputs": [],
   "source": [
    "df = df.pivot_table(\n",
    "    index=['DT', 'OWNER'],\n",
    "    values = ['PAID_AMOUNT', 'NET_DEMAND_ON', 'NET_DEMAND_1', 'NET_DEMAND_2', 'NET_DEMAND_3', 'NET_DEMAND_4', 'NET_DEMAND_5'],\n",
    "    aggfunc = 'sum'\n",
    ").reset_index()"
   ]
  },
  {
   "cell_type": "code",
   "execution_count": 161,
   "id": "689569b2-0fa7-44bc-b579-075375bfbe89",
   "metadata": {},
   "outputs": [
    {
     "data": {
      "text/html": [
       "<div>\n",
       "<style scoped>\n",
       "    .dataframe tbody tr th:only-of-type {\n",
       "        vertical-align: middle;\n",
       "    }\n",
       "\n",
       "    .dataframe tbody tr th {\n",
       "        vertical-align: top;\n",
       "    }\n",
       "\n",
       "    .dataframe thead th {\n",
       "        text-align: right;\n",
       "    }\n",
       "</style>\n",
       "<table border=\"1\" class=\"dataframe\">\n",
       "  <thead>\n",
       "    <tr style=\"text-align: right;\">\n",
       "      <th></th>\n",
       "      <th>DT</th>\n",
       "      <th>OWNER</th>\n",
       "      <th>NET_DEMAND_1</th>\n",
       "      <th>NET_DEMAND_2</th>\n",
       "      <th>NET_DEMAND_3</th>\n",
       "      <th>NET_DEMAND_4</th>\n",
       "      <th>NET_DEMAND_5</th>\n",
       "      <th>NET_DEMAND_ON</th>\n",
       "      <th>PAID_AMOUNT</th>\n",
       "    </tr>\n",
       "  </thead>\n",
       "  <tbody>\n",
       "    <tr>\n",
       "      <th>0</th>\n",
       "      <td>2118-01-03</td>\n",
       "      <td>EXPR</td>\n",
       "      <td>0.00</td>\n",
       "      <td>255091.38</td>\n",
       "      <td>0.000000e+00</td>\n",
       "      <td>0.00</td>\n",
       "      <td>0.00</td>\n",
       "      <td>0.00</td>\n",
       "      <td>467260.0</td>\n",
       "    </tr>\n",
       "    <tr>\n",
       "      <th>1</th>\n",
       "      <td>2118-01-03</td>\n",
       "      <td>HCB</td>\n",
       "      <td>59841270.05</td>\n",
       "      <td>126296.66</td>\n",
       "      <td>1.105410e+08</td>\n",
       "      <td>64700067.66</td>\n",
       "      <td>51691084.09</td>\n",
       "      <td>67389594.29</td>\n",
       "      <td>29062797.0</td>\n",
       "    </tr>\n",
       "    <tr>\n",
       "      <th>2</th>\n",
       "      <td>2118-01-03</td>\n",
       "      <td>HRB</td>\n",
       "      <td>8517880.71</td>\n",
       "      <td>1043770.35</td>\n",
       "      <td>6.932474e+06</td>\n",
       "      <td>8970339.18</td>\n",
       "      <td>1701563.15</td>\n",
       "      <td>33153209.33</td>\n",
       "      <td>59573247.0</td>\n",
       "    </tr>\n",
       "    <tr>\n",
       "      <th>3</th>\n",
       "      <td>2118-01-03</td>\n",
       "      <td>KCG</td>\n",
       "      <td>3147970.94</td>\n",
       "      <td>1628127.99</td>\n",
       "      <td>4.126834e+05</td>\n",
       "      <td>629805.95</td>\n",
       "      <td>4056659.82</td>\n",
       "      <td>10432500.38</td>\n",
       "      <td>16418301.0</td>\n",
       "    </tr>\n",
       "    <tr>\n",
       "      <th>4</th>\n",
       "      <td>2118-01-03</td>\n",
       "      <td>SCB</td>\n",
       "      <td>3027793.88</td>\n",
       "      <td>612842.45</td>\n",
       "      <td>3.520242e+06</td>\n",
       "      <td>124047.66</td>\n",
       "      <td>72960159.28</td>\n",
       "      <td>5796685.08</td>\n",
       "      <td>1534819.0</td>\n",
       "    </tr>\n",
       "    <tr>\n",
       "      <th>...</th>\n",
       "      <td>...</td>\n",
       "      <td>...</td>\n",
       "      <td>...</td>\n",
       "      <td>...</td>\n",
       "      <td>...</td>\n",
       "      <td>...</td>\n",
       "      <td>...</td>\n",
       "      <td>...</td>\n",
       "      <td>...</td>\n",
       "    </tr>\n",
       "    <tr>\n",
       "      <th>11710</th>\n",
       "      <td>2124-06-02</td>\n",
       "      <td>EXPR</td>\n",
       "      <td>0.00</td>\n",
       "      <td>0.00</td>\n",
       "      <td>0.000000e+00</td>\n",
       "      <td>0.00</td>\n",
       "      <td>0.00</td>\n",
       "      <td>0.00</td>\n",
       "      <td>0.0</td>\n",
       "    </tr>\n",
       "    <tr>\n",
       "      <th>11711</th>\n",
       "      <td>2124-06-02</td>\n",
       "      <td>HCB</td>\n",
       "      <td>0.00</td>\n",
       "      <td>0.00</td>\n",
       "      <td>0.000000e+00</td>\n",
       "      <td>0.00</td>\n",
       "      <td>0.00</td>\n",
       "      <td>0.00</td>\n",
       "      <td>0.0</td>\n",
       "    </tr>\n",
       "    <tr>\n",
       "      <th>11712</th>\n",
       "      <td>2124-06-02</td>\n",
       "      <td>HRB</td>\n",
       "      <td>0.00</td>\n",
       "      <td>0.00</td>\n",
       "      <td>0.000000e+00</td>\n",
       "      <td>0.00</td>\n",
       "      <td>0.00</td>\n",
       "      <td>0.00</td>\n",
       "      <td>0.0</td>\n",
       "    </tr>\n",
       "    <tr>\n",
       "      <th>11713</th>\n",
       "      <td>2124-06-02</td>\n",
       "      <td>KCG</td>\n",
       "      <td>0.00</td>\n",
       "      <td>0.00</td>\n",
       "      <td>0.000000e+00</td>\n",
       "      <td>0.00</td>\n",
       "      <td>0.00</td>\n",
       "      <td>0.00</td>\n",
       "      <td>0.0</td>\n",
       "    </tr>\n",
       "    <tr>\n",
       "      <th>11714</th>\n",
       "      <td>2124-06-02</td>\n",
       "      <td>SCB</td>\n",
       "      <td>0.00</td>\n",
       "      <td>0.00</td>\n",
       "      <td>0.000000e+00</td>\n",
       "      <td>0.00</td>\n",
       "      <td>0.00</td>\n",
       "      <td>0.00</td>\n",
       "      <td>0.0</td>\n",
       "    </tr>\n",
       "  </tbody>\n",
       "</table>\n",
       "<p>11715 rows × 9 columns</p>\n",
       "</div>"
      ],
      "text/plain": [
       "              DT OWNER  NET_DEMAND_1  NET_DEMAND_2  NET_DEMAND_3  \\\n",
       "0     2118-01-03  EXPR          0.00     255091.38  0.000000e+00   \n",
       "1     2118-01-03   HCB   59841270.05     126296.66  1.105410e+08   \n",
       "2     2118-01-03   HRB    8517880.71    1043770.35  6.932474e+06   \n",
       "3     2118-01-03   KCG    3147970.94    1628127.99  4.126834e+05   \n",
       "4     2118-01-03   SCB    3027793.88     612842.45  3.520242e+06   \n",
       "...          ...   ...           ...           ...           ...   \n",
       "11710 2124-06-02  EXPR          0.00          0.00  0.000000e+00   \n",
       "11711 2124-06-02   HCB          0.00          0.00  0.000000e+00   \n",
       "11712 2124-06-02   HRB          0.00          0.00  0.000000e+00   \n",
       "11713 2124-06-02   KCG          0.00          0.00  0.000000e+00   \n",
       "11714 2124-06-02   SCB          0.00          0.00  0.000000e+00   \n",
       "\n",
       "       NET_DEMAND_4  NET_DEMAND_5  NET_DEMAND_ON  PAID_AMOUNT  \n",
       "0              0.00          0.00           0.00     467260.0  \n",
       "1       64700067.66   51691084.09    67389594.29   29062797.0  \n",
       "2        8970339.18    1701563.15    33153209.33   59573247.0  \n",
       "3         629805.95    4056659.82    10432500.38   16418301.0  \n",
       "4         124047.66   72960159.28     5796685.08    1534819.0  \n",
       "...             ...           ...            ...          ...  \n",
       "11710          0.00          0.00           0.00          0.0  \n",
       "11711          0.00          0.00           0.00          0.0  \n",
       "11712          0.00          0.00           0.00          0.0  \n",
       "11713          0.00          0.00           0.00          0.0  \n",
       "11714          0.00          0.00           0.00          0.0  \n",
       "\n",
       "[11715 rows x 9 columns]"
      ]
     },
     "execution_count": 161,
     "metadata": {},
     "output_type": "execute_result"
    }
   ],
   "source": [
    "start_date = pd.to_datetime('2000-01-01')\n",
    "df['DT'] = start_date + pd.to_timedelta(df['DT'], unit='D')\n",
    "df"
   ]
  },
  {
   "cell_type": "code",
   "execution_count": 162,
   "id": "f9ee4650-c5cb-47d8-af93-ecdef7c8711a",
   "metadata": {},
   "outputs": [
    {
     "data": {
      "text/html": [
       "<div>\n",
       "<style scoped>\n",
       "    .dataframe tbody tr th:only-of-type {\n",
       "        vertical-align: middle;\n",
       "    }\n",
       "\n",
       "    .dataframe tbody tr th {\n",
       "        vertical-align: top;\n",
       "    }\n",
       "\n",
       "    .dataframe thead th {\n",
       "        text-align: right;\n",
       "    }\n",
       "</style>\n",
       "<table border=\"1\" class=\"dataframe\">\n",
       "  <thead>\n",
       "    <tr style=\"text-align: right;\">\n",
       "      <th></th>\n",
       "      <th>OWNER</th>\n",
       "      <th>NET_DEMAND_1</th>\n",
       "      <th>NET_DEMAND_2</th>\n",
       "      <th>NET_DEMAND_3</th>\n",
       "      <th>NET_DEMAND_4</th>\n",
       "      <th>NET_DEMAND_5</th>\n",
       "      <th>NET_DEMAND_ON</th>\n",
       "      <th>PAID_AMOUNT</th>\n",
       "    </tr>\n",
       "    <tr>\n",
       "      <th>DT</th>\n",
       "      <th></th>\n",
       "      <th></th>\n",
       "      <th></th>\n",
       "      <th></th>\n",
       "      <th></th>\n",
       "      <th></th>\n",
       "      <th></th>\n",
       "      <th></th>\n",
       "    </tr>\n",
       "  </thead>\n",
       "  <tbody>\n",
       "    <tr>\n",
       "      <th>2118-01-03</th>\n",
       "      <td>EXPR</td>\n",
       "      <td>0.00</td>\n",
       "      <td>255091.38</td>\n",
       "      <td>0.000000e+00</td>\n",
       "      <td>0.00</td>\n",
       "      <td>0.00</td>\n",
       "      <td>0.00</td>\n",
       "      <td>467260.0</td>\n",
       "    </tr>\n",
       "    <tr>\n",
       "      <th>2118-01-03</th>\n",
       "      <td>HCB</td>\n",
       "      <td>59841270.05</td>\n",
       "      <td>126296.66</td>\n",
       "      <td>1.105410e+08</td>\n",
       "      <td>64700067.66</td>\n",
       "      <td>51691084.09</td>\n",
       "      <td>67389594.29</td>\n",
       "      <td>29062797.0</td>\n",
       "    </tr>\n",
       "    <tr>\n",
       "      <th>2118-01-03</th>\n",
       "      <td>HRB</td>\n",
       "      <td>8517880.71</td>\n",
       "      <td>1043770.35</td>\n",
       "      <td>6.932474e+06</td>\n",
       "      <td>8970339.18</td>\n",
       "      <td>1701563.15</td>\n",
       "      <td>33153209.33</td>\n",
       "      <td>59573247.0</td>\n",
       "    </tr>\n",
       "    <tr>\n",
       "      <th>2118-01-03</th>\n",
       "      <td>KCG</td>\n",
       "      <td>3147970.94</td>\n",
       "      <td>1628127.99</td>\n",
       "      <td>4.126834e+05</td>\n",
       "      <td>629805.95</td>\n",
       "      <td>4056659.82</td>\n",
       "      <td>10432500.38</td>\n",
       "      <td>16418301.0</td>\n",
       "    </tr>\n",
       "    <tr>\n",
       "      <th>2118-01-03</th>\n",
       "      <td>SCB</td>\n",
       "      <td>3027793.88</td>\n",
       "      <td>612842.45</td>\n",
       "      <td>3.520242e+06</td>\n",
       "      <td>124047.66</td>\n",
       "      <td>72960159.28</td>\n",
       "      <td>5796685.08</td>\n",
       "      <td>1534819.0</td>\n",
       "    </tr>\n",
       "    <tr>\n",
       "      <th>...</th>\n",
       "      <td>...</td>\n",
       "      <td>...</td>\n",
       "      <td>...</td>\n",
       "      <td>...</td>\n",
       "      <td>...</td>\n",
       "      <td>...</td>\n",
       "      <td>...</td>\n",
       "      <td>...</td>\n",
       "    </tr>\n",
       "    <tr>\n",
       "      <th>2124-06-02</th>\n",
       "      <td>EXPR</td>\n",
       "      <td>0.00</td>\n",
       "      <td>0.00</td>\n",
       "      <td>0.000000e+00</td>\n",
       "      <td>0.00</td>\n",
       "      <td>0.00</td>\n",
       "      <td>0.00</td>\n",
       "      <td>0.0</td>\n",
       "    </tr>\n",
       "    <tr>\n",
       "      <th>2124-06-02</th>\n",
       "      <td>HCB</td>\n",
       "      <td>0.00</td>\n",
       "      <td>0.00</td>\n",
       "      <td>0.000000e+00</td>\n",
       "      <td>0.00</td>\n",
       "      <td>0.00</td>\n",
       "      <td>0.00</td>\n",
       "      <td>0.0</td>\n",
       "    </tr>\n",
       "    <tr>\n",
       "      <th>2124-06-02</th>\n",
       "      <td>HRB</td>\n",
       "      <td>0.00</td>\n",
       "      <td>0.00</td>\n",
       "      <td>0.000000e+00</td>\n",
       "      <td>0.00</td>\n",
       "      <td>0.00</td>\n",
       "      <td>0.00</td>\n",
       "      <td>0.0</td>\n",
       "    </tr>\n",
       "    <tr>\n",
       "      <th>2124-06-02</th>\n",
       "      <td>KCG</td>\n",
       "      <td>0.00</td>\n",
       "      <td>0.00</td>\n",
       "      <td>0.000000e+00</td>\n",
       "      <td>0.00</td>\n",
       "      <td>0.00</td>\n",
       "      <td>0.00</td>\n",
       "      <td>0.0</td>\n",
       "    </tr>\n",
       "    <tr>\n",
       "      <th>2124-06-02</th>\n",
       "      <td>SCB</td>\n",
       "      <td>0.00</td>\n",
       "      <td>0.00</td>\n",
       "      <td>0.000000e+00</td>\n",
       "      <td>0.00</td>\n",
       "      <td>0.00</td>\n",
       "      <td>0.00</td>\n",
       "      <td>0.0</td>\n",
       "    </tr>\n",
       "  </tbody>\n",
       "</table>\n",
       "<p>11715 rows × 8 columns</p>\n",
       "</div>"
      ],
      "text/plain": [
       "           OWNER  NET_DEMAND_1  NET_DEMAND_2  NET_DEMAND_3  NET_DEMAND_4  \\\n",
       "DT                                                                         \n",
       "2118-01-03  EXPR          0.00     255091.38  0.000000e+00          0.00   \n",
       "2118-01-03   HCB   59841270.05     126296.66  1.105410e+08   64700067.66   \n",
       "2118-01-03   HRB    8517880.71    1043770.35  6.932474e+06    8970339.18   \n",
       "2118-01-03   KCG    3147970.94    1628127.99  4.126834e+05     629805.95   \n",
       "2118-01-03   SCB    3027793.88     612842.45  3.520242e+06     124047.66   \n",
       "...          ...           ...           ...           ...           ...   \n",
       "2124-06-02  EXPR          0.00          0.00  0.000000e+00          0.00   \n",
       "2124-06-02   HCB          0.00          0.00  0.000000e+00          0.00   \n",
       "2124-06-02   HRB          0.00          0.00  0.000000e+00          0.00   \n",
       "2124-06-02   KCG          0.00          0.00  0.000000e+00          0.00   \n",
       "2124-06-02   SCB          0.00          0.00  0.000000e+00          0.00   \n",
       "\n",
       "            NET_DEMAND_5  NET_DEMAND_ON  PAID_AMOUNT  \n",
       "DT                                                    \n",
       "2118-01-03          0.00           0.00     467260.0  \n",
       "2118-01-03   51691084.09    67389594.29   29062797.0  \n",
       "2118-01-03    1701563.15    33153209.33   59573247.0  \n",
       "2118-01-03    4056659.82    10432500.38   16418301.0  \n",
       "2118-01-03   72960159.28     5796685.08    1534819.0  \n",
       "...                  ...            ...          ...  \n",
       "2124-06-02          0.00           0.00          0.0  \n",
       "2124-06-02          0.00           0.00          0.0  \n",
       "2124-06-02          0.00           0.00          0.0  \n",
       "2124-06-02          0.00           0.00          0.0  \n",
       "2124-06-02          0.00           0.00          0.0  \n",
       "\n",
       "[11715 rows x 8 columns]"
      ]
     },
     "execution_count": 162,
     "metadata": {},
     "output_type": "execute_result"
    }
   ],
   "source": [
    "grouped_data = df.groupby(['DT', 'OWNER']).sum().reset_index()\n",
    "grouped_data.set_index('DT', inplace=True)\n",
    "\n",
    "grouped_data"
   ]
  },
  {
   "cell_type": "code",
   "execution_count": 163,
   "id": "1f9f7f82-e77c-46e2-b841-4e7c70e87a60",
   "metadata": {},
   "outputs": [
    {
     "data": {
      "text/html": [
       "<div>\n",
       "<style scoped>\n",
       "    .dataframe tbody tr th:only-of-type {\n",
       "        vertical-align: middle;\n",
       "    }\n",
       "\n",
       "    .dataframe tbody tr th {\n",
       "        vertical-align: top;\n",
       "    }\n",
       "\n",
       "    .dataframe thead th {\n",
       "        text-align: right;\n",
       "    }\n",
       "</style>\n",
       "<table border=\"1\" class=\"dataframe\">\n",
       "  <thead>\n",
       "    <tr style=\"text-align: right;\">\n",
       "      <th></th>\n",
       "      <th>OWNER</th>\n",
       "      <th>NET_DEMAND_1</th>\n",
       "      <th>NET_DEMAND_2</th>\n",
       "      <th>NET_DEMAND_3</th>\n",
       "      <th>NET_DEMAND_4</th>\n",
       "      <th>NET_DEMAND_5</th>\n",
       "      <th>NET_DEMAND_ON</th>\n",
       "      <th>PAID_AMOUNT</th>\n",
       "    </tr>\n",
       "    <tr>\n",
       "      <th>DT</th>\n",
       "      <th></th>\n",
       "      <th></th>\n",
       "      <th></th>\n",
       "      <th></th>\n",
       "      <th></th>\n",
       "      <th></th>\n",
       "      <th></th>\n",
       "      <th></th>\n",
       "    </tr>\n",
       "  </thead>\n",
       "  <tbody>\n",
       "    <tr>\n",
       "      <th>2118-01-03</th>\n",
       "      <td>HCB</td>\n",
       "      <td>5.984127e+07</td>\n",
       "      <td>1.262967e+05</td>\n",
       "      <td>1.105410e+08</td>\n",
       "      <td>6.470007e+07</td>\n",
       "      <td>5.169108e+07</td>\n",
       "      <td>6.738959e+07</td>\n",
       "      <td>29062797.00</td>\n",
       "    </tr>\n",
       "    <tr>\n",
       "      <th>2118-01-04</th>\n",
       "      <td>HCB</td>\n",
       "      <td>1.262967e+05</td>\n",
       "      <td>1.105410e+08</td>\n",
       "      <td>6.470007e+07</td>\n",
       "      <td>5.169108e+07</td>\n",
       "      <td>0.000000e+00</td>\n",
       "      <td>5.984127e+07</td>\n",
       "      <td>43001637.49</td>\n",
       "    </tr>\n",
       "    <tr>\n",
       "      <th>2118-01-05</th>\n",
       "      <td>HCB</td>\n",
       "      <td>1.105410e+08</td>\n",
       "      <td>6.470007e+07</td>\n",
       "      <td>5.169108e+07</td>\n",
       "      <td>0.000000e+00</td>\n",
       "      <td>2.203695e+08</td>\n",
       "      <td>1.262967e+05</td>\n",
       "      <td>42632484.36</td>\n",
       "    </tr>\n",
       "    <tr>\n",
       "      <th>2118-01-06</th>\n",
       "      <td>HCB</td>\n",
       "      <td>6.470007e+07</td>\n",
       "      <td>5.169108e+07</td>\n",
       "      <td>0.000000e+00</td>\n",
       "      <td>2.203695e+08</td>\n",
       "      <td>5.976720e+07</td>\n",
       "      <td>1.105410e+08</td>\n",
       "      <td>47714646.00</td>\n",
       "    </tr>\n",
       "    <tr>\n",
       "      <th>2118-01-07</th>\n",
       "      <td>HCB</td>\n",
       "      <td>5.169108e+07</td>\n",
       "      <td>0.000000e+00</td>\n",
       "      <td>2.203695e+08</td>\n",
       "      <td>5.976720e+07</td>\n",
       "      <td>4.365490e+04</td>\n",
       "      <td>6.470007e+07</td>\n",
       "      <td>41129218.30</td>\n",
       "    </tr>\n",
       "    <tr>\n",
       "      <th>...</th>\n",
       "      <td>...</td>\n",
       "      <td>...</td>\n",
       "      <td>...</td>\n",
       "      <td>...</td>\n",
       "      <td>...</td>\n",
       "      <td>...</td>\n",
       "      <td>...</td>\n",
       "      <td>...</td>\n",
       "    </tr>\n",
       "    <tr>\n",
       "      <th>2122-12-27</th>\n",
       "      <td>HCB</td>\n",
       "      <td>1.389147e+08</td>\n",
       "      <td>8.110460e+07</td>\n",
       "      <td>8.035125e+07</td>\n",
       "      <td>3.878072e+07</td>\n",
       "      <td>1.988278e+07</td>\n",
       "      <td>0.000000e+00</td>\n",
       "      <td>17600723.00</td>\n",
       "    </tr>\n",
       "    <tr>\n",
       "      <th>2122-12-28</th>\n",
       "      <td>HCB</td>\n",
       "      <td>8.110460e+07</td>\n",
       "      <td>8.035125e+07</td>\n",
       "      <td>3.878072e+07</td>\n",
       "      <td>1.988278e+07</td>\n",
       "      <td>9.813499e+07</td>\n",
       "      <td>1.389147e+08</td>\n",
       "      <td>41545102.81</td>\n",
       "    </tr>\n",
       "    <tr>\n",
       "      <th>2122-12-29</th>\n",
       "      <td>HCB</td>\n",
       "      <td>8.035125e+07</td>\n",
       "      <td>3.878072e+07</td>\n",
       "      <td>1.988278e+07</td>\n",
       "      <td>9.813499e+07</td>\n",
       "      <td>0.000000e+00</td>\n",
       "      <td>8.110460e+07</td>\n",
       "      <td>41814977.00</td>\n",
       "    </tr>\n",
       "    <tr>\n",
       "      <th>2122-12-30</th>\n",
       "      <td>HCB</td>\n",
       "      <td>3.878072e+07</td>\n",
       "      <td>1.988278e+07</td>\n",
       "      <td>9.813499e+07</td>\n",
       "      <td>0.000000e+00</td>\n",
       "      <td>5.117123e+07</td>\n",
       "      <td>8.035125e+07</td>\n",
       "      <td>42024011.12</td>\n",
       "    </tr>\n",
       "    <tr>\n",
       "      <th>2122-12-31</th>\n",
       "      <td>HCB</td>\n",
       "      <td>1.988278e+07</td>\n",
       "      <td>9.813499e+07</td>\n",
       "      <td>0.000000e+00</td>\n",
       "      <td>5.117123e+07</td>\n",
       "      <td>5.440577e+07</td>\n",
       "      <td>3.878072e+07</td>\n",
       "      <td>37367539.16</td>\n",
       "    </tr>\n",
       "  </tbody>\n",
       "</table>\n",
       "<p>1824 rows × 8 columns</p>\n",
       "</div>"
      ],
      "text/plain": [
       "           OWNER  NET_DEMAND_1  NET_DEMAND_2  NET_DEMAND_3  NET_DEMAND_4  \\\n",
       "DT                                                                         \n",
       "2118-01-03   HCB  5.984127e+07  1.262967e+05  1.105410e+08  6.470007e+07   \n",
       "2118-01-04   HCB  1.262967e+05  1.105410e+08  6.470007e+07  5.169108e+07   \n",
       "2118-01-05   HCB  1.105410e+08  6.470007e+07  5.169108e+07  0.000000e+00   \n",
       "2118-01-06   HCB  6.470007e+07  5.169108e+07  0.000000e+00  2.203695e+08   \n",
       "2118-01-07   HCB  5.169108e+07  0.000000e+00  2.203695e+08  5.976720e+07   \n",
       "...          ...           ...           ...           ...           ...   \n",
       "2122-12-27   HCB  1.389147e+08  8.110460e+07  8.035125e+07  3.878072e+07   \n",
       "2122-12-28   HCB  8.110460e+07  8.035125e+07  3.878072e+07  1.988278e+07   \n",
       "2122-12-29   HCB  8.035125e+07  3.878072e+07  1.988278e+07  9.813499e+07   \n",
       "2122-12-30   HCB  3.878072e+07  1.988278e+07  9.813499e+07  0.000000e+00   \n",
       "2122-12-31   HCB  1.988278e+07  9.813499e+07  0.000000e+00  5.117123e+07   \n",
       "\n",
       "            NET_DEMAND_5  NET_DEMAND_ON  PAID_AMOUNT  \n",
       "DT                                                    \n",
       "2118-01-03  5.169108e+07   6.738959e+07  29062797.00  \n",
       "2118-01-04  0.000000e+00   5.984127e+07  43001637.49  \n",
       "2118-01-05  2.203695e+08   1.262967e+05  42632484.36  \n",
       "2118-01-06  5.976720e+07   1.105410e+08  47714646.00  \n",
       "2118-01-07  4.365490e+04   6.470007e+07  41129218.30  \n",
       "...                  ...            ...          ...  \n",
       "2122-12-27  1.988278e+07   0.000000e+00  17600723.00  \n",
       "2122-12-28  9.813499e+07   1.389147e+08  41545102.81  \n",
       "2122-12-29  0.000000e+00   8.110460e+07  41814977.00  \n",
       "2122-12-30  5.117123e+07   8.035125e+07  42024011.12  \n",
       "2122-12-31  5.440577e+07   3.878072e+07  37367539.16  \n",
       "\n",
       "[1824 rows x 8 columns]"
      ]
     },
     "execution_count": 163,
     "metadata": {},
     "output_type": "execute_result"
    }
   ],
   "source": [
    "hcb_data = grouped_data[grouped_data['OWNER']=='HCB']\n",
    "hcb_data = hcb_data[:'2122']\n",
    "hcb_data"
   ]
  },
  {
   "cell_type": "code",
   "execution_count": 164,
   "id": "2768caef-f603-4263-a15c-e07b484ec771",
   "metadata": {},
   "outputs": [],
   "source": [
    "hcb_data.drop(columns=['OWNER'], inplace=True)"
   ]
  },
  {
   "cell_type": "code",
   "execution_count": 165,
   "id": "cec1b63a-6d5e-4000-9426-f1cba9d1429a",
   "metadata": {},
   "outputs": [],
   "source": [
    "X = hcb_data.drop(columns=['PAID_AMOUNT'])\n",
    "y = hcb_data['PAID_AMOUNT']"
   ]
  },
  {
   "cell_type": "code",
   "execution_count": 166,
   "id": "62a47fc6-9316-41ea-83c6-4122433c37c2",
   "metadata": {},
   "outputs": [],
   "source": [
    "from sklearn.model_selection import train_test_split\n",
    "from sklearn.preprocessing import MinMaxScaler\n",
    "from sklearn.metrics import mean_squared_error, r2_score, mean_absolute_percentage_error\n",
    "from tensorflow.keras.models import Sequential\n",
    "from tensorflow.keras.layers import LSTM, Dense"
   ]
  },
  {
   "cell_type": "code",
   "execution_count": 167,
   "id": "734905d3-2024-473b-a489-6d16cd7a7bd4",
   "metadata": {},
   "outputs": [],
   "source": [
    "scaler_X = MinMaxScaler()\n",
    "X_scaled = scaler_X.fit_transform(X)"
   ]
  },
  {
   "cell_type": "code",
   "execution_count": 168,
   "id": "595f5208-fd04-4a6c-9159-c91a46edd562",
   "metadata": {},
   "outputs": [],
   "source": [
    "scaler_y = MinMaxScaler()\n",
    "y_scaled = scaler_y.fit_transform(y.values.reshape(-1, 1))"
   ]
  },
  {
   "cell_type": "code",
   "execution_count": 169,
   "id": "d108a06b-3638-4d6d-9a0c-a5371b93cf17",
   "metadata": {},
   "outputs": [],
   "source": [
    "X_scaled = X_scaled.reshape((X_scaled.shape[0], 1, X_scaled.shape[1]))"
   ]
  },
  {
   "cell_type": "code",
   "execution_count": 170,
   "id": "98bde2aa-bff3-4cca-8a5f-5bb464eb3153",
   "metadata": {},
   "outputs": [
    {
     "data": {
      "text/html": [
       "<div>\n",
       "<style scoped>\n",
       "    .dataframe tbody tr th:only-of-type {\n",
       "        vertical-align: middle;\n",
       "    }\n",
       "\n",
       "    .dataframe tbody tr th {\n",
       "        vertical-align: top;\n",
       "    }\n",
       "\n",
       "    .dataframe thead th {\n",
       "        text-align: right;\n",
       "    }\n",
       "</style>\n",
       "<table border=\"1\" class=\"dataframe\">\n",
       "  <thead>\n",
       "    <tr style=\"text-align: right;\">\n",
       "      <th></th>\n",
       "      <th>NET_DEMAND_1</th>\n",
       "      <th>NET_DEMAND_2</th>\n",
       "      <th>NET_DEMAND_3</th>\n",
       "      <th>NET_DEMAND_4</th>\n",
       "      <th>NET_DEMAND_5</th>\n",
       "      <th>NET_DEMAND_ON</th>\n",
       "      <th>PAID_AMOUNT</th>\n",
       "    </tr>\n",
       "    <tr>\n",
       "      <th>DT</th>\n",
       "      <th></th>\n",
       "      <th></th>\n",
       "      <th></th>\n",
       "      <th></th>\n",
       "      <th></th>\n",
       "      <th></th>\n",
       "      <th></th>\n",
       "    </tr>\n",
       "  </thead>\n",
       "  <tbody>\n",
       "    <tr>\n",
       "      <th>2122-12-22</th>\n",
       "      <td>3.621058e+07</td>\n",
       "      <td>3.129376e+07</td>\n",
       "      <td>9.692861e+07</td>\n",
       "      <td>1.897486e+07</td>\n",
       "      <td>0.000000e+00</td>\n",
       "      <td>6.978984e+07</td>\n",
       "      <td>49547162.06</td>\n",
       "    </tr>\n",
       "    <tr>\n",
       "      <th>2122-12-23</th>\n",
       "      <td>3.129376e+07</td>\n",
       "      <td>9.692861e+07</td>\n",
       "      <td>1.897486e+07</td>\n",
       "      <td>0.000000e+00</td>\n",
       "      <td>1.389147e+08</td>\n",
       "      <td>3.621058e+07</td>\n",
       "      <td>48840378.16</td>\n",
       "    </tr>\n",
       "    <tr>\n",
       "      <th>2122-12-24</th>\n",
       "      <td>9.692861e+07</td>\n",
       "      <td>1.897486e+07</td>\n",
       "      <td>0.000000e+00</td>\n",
       "      <td>1.389147e+08</td>\n",
       "      <td>8.110460e+07</td>\n",
       "      <td>3.129376e+07</td>\n",
       "      <td>51410588.41</td>\n",
       "    </tr>\n",
       "    <tr>\n",
       "      <th>2122-12-25</th>\n",
       "      <td>1.897486e+07</td>\n",
       "      <td>0.000000e+00</td>\n",
       "      <td>1.389147e+08</td>\n",
       "      <td>8.110460e+07</td>\n",
       "      <td>8.035125e+07</td>\n",
       "      <td>9.692861e+07</td>\n",
       "      <td>70019830.26</td>\n",
       "    </tr>\n",
       "    <tr>\n",
       "      <th>2122-12-26</th>\n",
       "      <td>0.000000e+00</td>\n",
       "      <td>1.389147e+08</td>\n",
       "      <td>8.110460e+07</td>\n",
       "      <td>8.035125e+07</td>\n",
       "      <td>3.878072e+07</td>\n",
       "      <td>1.897486e+07</td>\n",
       "      <td>28450406.00</td>\n",
       "    </tr>\n",
       "    <tr>\n",
       "      <th>2122-12-27</th>\n",
       "      <td>1.389147e+08</td>\n",
       "      <td>8.110460e+07</td>\n",
       "      <td>8.035125e+07</td>\n",
       "      <td>3.878072e+07</td>\n",
       "      <td>1.988278e+07</td>\n",
       "      <td>0.000000e+00</td>\n",
       "      <td>17600723.00</td>\n",
       "    </tr>\n",
       "    <tr>\n",
       "      <th>2122-12-28</th>\n",
       "      <td>8.110460e+07</td>\n",
       "      <td>8.035125e+07</td>\n",
       "      <td>3.878072e+07</td>\n",
       "      <td>1.988278e+07</td>\n",
       "      <td>9.813499e+07</td>\n",
       "      <td>1.389147e+08</td>\n",
       "      <td>41545102.81</td>\n",
       "    </tr>\n",
       "    <tr>\n",
       "      <th>2122-12-29</th>\n",
       "      <td>8.035125e+07</td>\n",
       "      <td>3.878072e+07</td>\n",
       "      <td>1.988278e+07</td>\n",
       "      <td>9.813499e+07</td>\n",
       "      <td>0.000000e+00</td>\n",
       "      <td>8.110460e+07</td>\n",
       "      <td>41814977.00</td>\n",
       "    </tr>\n",
       "    <tr>\n",
       "      <th>2122-12-30</th>\n",
       "      <td>3.878072e+07</td>\n",
       "      <td>1.988278e+07</td>\n",
       "      <td>9.813499e+07</td>\n",
       "      <td>0.000000e+00</td>\n",
       "      <td>5.117123e+07</td>\n",
       "      <td>8.035125e+07</td>\n",
       "      <td>42024011.12</td>\n",
       "    </tr>\n",
       "    <tr>\n",
       "      <th>2122-12-31</th>\n",
       "      <td>1.988278e+07</td>\n",
       "      <td>9.813499e+07</td>\n",
       "      <td>0.000000e+00</td>\n",
       "      <td>5.117123e+07</td>\n",
       "      <td>5.440577e+07</td>\n",
       "      <td>3.878072e+07</td>\n",
       "      <td>37367539.16</td>\n",
       "    </tr>\n",
       "  </tbody>\n",
       "</table>\n",
       "</div>"
      ],
      "text/plain": [
       "            NET_DEMAND_1  NET_DEMAND_2  NET_DEMAND_3  NET_DEMAND_4  \\\n",
       "DT                                                                   \n",
       "2122-12-22  3.621058e+07  3.129376e+07  9.692861e+07  1.897486e+07   \n",
       "2122-12-23  3.129376e+07  9.692861e+07  1.897486e+07  0.000000e+00   \n",
       "2122-12-24  9.692861e+07  1.897486e+07  0.000000e+00  1.389147e+08   \n",
       "2122-12-25  1.897486e+07  0.000000e+00  1.389147e+08  8.110460e+07   \n",
       "2122-12-26  0.000000e+00  1.389147e+08  8.110460e+07  8.035125e+07   \n",
       "2122-12-27  1.389147e+08  8.110460e+07  8.035125e+07  3.878072e+07   \n",
       "2122-12-28  8.110460e+07  8.035125e+07  3.878072e+07  1.988278e+07   \n",
       "2122-12-29  8.035125e+07  3.878072e+07  1.988278e+07  9.813499e+07   \n",
       "2122-12-30  3.878072e+07  1.988278e+07  9.813499e+07  0.000000e+00   \n",
       "2122-12-31  1.988278e+07  9.813499e+07  0.000000e+00  5.117123e+07   \n",
       "\n",
       "            NET_DEMAND_5  NET_DEMAND_ON  PAID_AMOUNT  \n",
       "DT                                                    \n",
       "2122-12-22  0.000000e+00   6.978984e+07  49547162.06  \n",
       "2122-12-23  1.389147e+08   3.621058e+07  48840378.16  \n",
       "2122-12-24  8.110460e+07   3.129376e+07  51410588.41  \n",
       "2122-12-25  8.035125e+07   9.692861e+07  70019830.26  \n",
       "2122-12-26  3.878072e+07   1.897486e+07  28450406.00  \n",
       "2122-12-27  1.988278e+07   0.000000e+00  17600723.00  \n",
       "2122-12-28  9.813499e+07   1.389147e+08  41545102.81  \n",
       "2122-12-29  0.000000e+00   8.110460e+07  41814977.00  \n",
       "2122-12-30  5.117123e+07   8.035125e+07  42024011.12  \n",
       "2122-12-31  5.440577e+07   3.878072e+07  37367539.16  "
      ]
     },
     "execution_count": 170,
     "metadata": {},
     "output_type": "execute_result"
    }
   ],
   "source": [
    "test_days = 10\n",
    "train = hcb_data[:-test_days]\n",
    "test = hcb_data[-test_days:]\n",
    "test"
   ]
  },
  {
   "cell_type": "code",
   "execution_count": 171,
   "id": "6b46d812-6a50-49b8-8cca-6d881a4f0e1c",
   "metadata": {},
   "outputs": [
    {
     "data": {
      "text/plain": [
       "array([[[6.72908656e-02, 1.42019238e-04, 1.24302212e-01, 7.27545313e-02,\n",
       "         5.81260690e-02, 7.57788752e-02]],\n",
       "\n",
       "       [[1.42019238e-04, 1.24302212e-01, 7.27545313e-02, 5.81260690e-02,\n",
       "         0.00000000e+00, 6.72908656e-02]],\n",
       "\n",
       "       [[1.24302212e-01, 7.27545313e-02, 5.81260690e-02, 0.00000000e+00,\n",
       "         2.47803132e-01, 1.42019238e-04]],\n",
       "\n",
       "       ...,\n",
       "\n",
       "       [[0.00000000e+00, 1.56817633e-01, 7.84779260e-02, 4.07184095e-02,\n",
       "         3.51895016e-02, 5.90310618e-02]],\n",
       "\n",
       "       [[1.56817633e-01, 7.84779260e-02, 4.07184095e-02, 3.51895016e-02,\n",
       "         1.08995177e-01, 0.00000000e+00]],\n",
       "\n",
       "       [[7.84779260e-02, 4.07184095e-02, 3.51895016e-02, 1.08995177e-01,\n",
       "         2.13370269e-02, 1.56817633e-01]]])"
      ]
     },
     "execution_count": 171,
     "metadata": {},
     "output_type": "execute_result"
    }
   ],
   "source": [
    "Y_test = y_scaled[-10:]\n",
    "X_test = X_scaled[-10:]\n",
    "Y_train = y_scaled[:-10]\n",
    "X_train = X_scaled[:-10]\n",
    "X_train"
   ]
  },
  {
   "cell_type": "code",
   "execution_count": 172,
   "id": "dda50d03-56e6-499a-9fe5-f9c2d3a45c49",
   "metadata": {},
   "outputs": [
    {
     "name": "stderr",
     "output_type": "stream",
     "text": [
      "C:\\Users\\singh\\AppData\\Local\\Programs\\Python\\Python311\\Lib\\site-packages\\keras\\src\\layers\\rnn\\rnn.py:204: UserWarning: Do not pass an `input_shape`/`input_dim` argument to a layer. When using Sequential models, prefer using an `Input(shape)` object as the first layer in the model instead.\n",
      "  super().__init__(**kwargs)\n"
     ]
    }
   ],
   "source": [
    "model = Sequential()\n",
    "model.add(LSTM(50, activation='relu', input_shape=(X_train.shape[1], X_train.shape[2])))\n",
    "model.add(Dense(1))\n",
    "model.compile(optimizer='adam', loss='mse')"
   ]
  },
  {
   "cell_type": "code",
   "execution_count": 173,
   "id": "7149f366-3371-4b62-86eb-8c4f263ed7ad",
   "metadata": {},
   "outputs": [
    {
     "name": "stdout",
     "output_type": "stream",
     "text": [
      "Epoch 1/20\n",
      "1451/1451 - 5s - 3ms/step - loss: 0.0219 - val_loss: 0.0158\n",
      "Epoch 2/20\n",
      "1451/1451 - 3s - 2ms/step - loss: 0.0141 - val_loss: 0.0184\n",
      "Epoch 3/20\n",
      "1451/1451 - 3s - 2ms/step - loss: 0.0130 - val_loss: 0.0146\n",
      "Epoch 4/20\n",
      "1451/1451 - 3s - 2ms/step - loss: 0.0124 - val_loss: 0.0160\n",
      "Epoch 5/20\n",
      "1451/1451 - 5s - 4ms/step - loss: 0.0119 - val_loss: 0.0131\n",
      "Epoch 6/20\n",
      "1451/1451 - 3s - 2ms/step - loss: 0.0116 - val_loss: 0.0134\n",
      "Epoch 7/20\n",
      "1451/1451 - 3s - 2ms/step - loss: 0.0113 - val_loss: 0.0124\n",
      "Epoch 8/20\n",
      "1451/1451 - 4s - 3ms/step - loss: 0.0111 - val_loss: 0.0172\n",
      "Epoch 9/20\n",
      "1451/1451 - 3s - 2ms/step - loss: 0.0107 - val_loss: 0.0147\n",
      "Epoch 10/20\n",
      "1451/1451 - 3s - 2ms/step - loss: 0.0103 - val_loss: 0.0127\n",
      "Epoch 11/20\n",
      "1451/1451 - 3s - 2ms/step - loss: 0.0104 - val_loss: 0.0135\n",
      "Epoch 12/20\n",
      "1451/1451 - 3s - 2ms/step - loss: 0.0102 - val_loss: 0.0144\n",
      "Epoch 13/20\n",
      "1451/1451 - 3s - 2ms/step - loss: 0.0098 - val_loss: 0.0116\n",
      "Epoch 14/20\n",
      "1451/1451 - 3s - 2ms/step - loss: 0.0097 - val_loss: 0.0125\n",
      "Epoch 15/20\n",
      "1451/1451 - 3s - 2ms/step - loss: 0.0095 - val_loss: 0.0141\n",
      "Epoch 16/20\n",
      "1451/1451 - 3s - 2ms/step - loss: 0.0095 - val_loss: 0.0108\n",
      "Epoch 17/20\n",
      "1451/1451 - 3s - 2ms/step - loss: 0.0092 - val_loss: 0.0129\n",
      "Epoch 18/20\n",
      "1451/1451 - 3s - 2ms/step - loss: 0.0091 - val_loss: 0.0109\n",
      "Epoch 19/20\n",
      "1451/1451 - 3s - 2ms/step - loss: 0.0090 - val_loss: 0.0115\n",
      "Epoch 20/20\n",
      "1451/1451 - 3s - 2ms/step - loss: 0.0090 - val_loss: 0.0117\n"
     ]
    }
   ],
   "source": [
    "history = model.fit(X_train, Y_train, epochs=20, batch_size=1, validation_split=0.2, verbose=2)"
   ]
  },
  {
   "cell_type": "code",
   "execution_count": 174,
   "id": "24361dca-44d7-4df2-87b6-5fa2caa9cc6e",
   "metadata": {},
   "outputs": [
    {
     "name": "stdout",
     "output_type": "stream",
     "text": [
      "\u001b[1m1/1\u001b[0m \u001b[32m━━━━━━━━━━━━━━━━━━━━\u001b[0m\u001b[37m\u001b[0m \u001b[1m0s\u001b[0m 149ms/step\n"
     ]
    }
   ],
   "source": [
    "y_pred_scaled = model.predict(X_test)\n",
    "y_pred = scaler_y.inverse_transform(y_pred_scaled)"
   ]
  },
  {
   "cell_type": "code",
   "execution_count": 175,
   "id": "3d024bee-b32e-45fe-af0e-4d71f823727c",
   "metadata": {},
   "outputs": [],
   "source": [
    "y_test_inverse = scaler_y.inverse_transform(Y_test)"
   ]
  },
  {
   "cell_type": "code",
   "execution_count": 176,
   "id": "643f3d78-1cd6-4888-a440-10c60f7d5a3d",
   "metadata": {},
   "outputs": [
    {
     "name": "stdout",
     "output_type": "stream",
     "text": [
      "Mean Absolute  Error (MAPE): 25.95%\n"
     ]
    }
   ],
   "source": [
    "mape = mean_absolute_percentage_error(y_test_inverse, y_pred) * 100\n",
    "print(f\"Mean Absolute  Error (MAPE): {mape:.2f}%\")"
   ]
  },
  {
   "cell_type": "code",
   "execution_count": 177,
   "id": "5df54257-fb52-43f7-bbd7-04236911aece",
   "metadata": {},
   "outputs": [
    {
     "data": {
      "image/png": "[encoded data removed]",
      "text/plain": [
       "<Figure size 1000x600 with 1 Axes>"
      ]
     },
     "metadata": {},
     "output_type": "display_data"
    }
   ],
   "source": [
    "import matplotlib.pyplot as plt\n",
    "plt.figure(figsize=(10, 6))\n",
    "plt.plot(y_pred, 'r--', label='Predicted PAID_AMOUNT')\n",
    "plt.xlabel('Index')\n",
    "plt.ylabel('PAID_AMOUNT')\n",
    "plt.title('Predicted PAID_AMOUNT HCB')\n",
    "plt.legend()\n",
    "plt.show()"
   ]
  },
  {
   "cell_type": "code",
   "execution_count": 178,
   "id": "5fdf892b-e19d-43bd-b207-fe257794f97a",
   "metadata": {},
   "outputs": [],
   "source": [
    "expr_data = grouped_data[grouped_data['OWNER']=='EXPR']\n",
    "expr_data = expr_data[:'2122']\n",
    "expr_data.drop(columns=['OWNER'], inplace=True)\n",
    "X = expr_data.drop(columns=['PAID_AMOUNT'])\n",
    "y = expr_data['PAID_AMOUNT']"
   ]
  },
  {
   "cell_type": "code",
   "execution_count": 179,
   "id": "7e1b7fb3-d570-4837-8a75-02beeef715b6",
   "metadata": {},
   "outputs": [],
   "source": [
    "scaler_X = MinMaxScaler()\n",
    "X_scaled = scaler_X.fit_transform(X)\n",
    "scaler_y = MinMaxScaler()\n",
    "y_scaled = scaler_y.fit_transform(y.values.reshape(-1, 1))\n",
    "X_scaled = X_scaled.reshape((X_scaled.shape[0], 1, X_scaled.shape[1]))"
   ]
  },
  {
   "cell_type": "code",
   "execution_count": 180,
   "id": "8b9b8da4-fd2f-4efd-891a-413b52f073e5",
   "metadata": {},
   "outputs": [],
   "source": [
    "test_days = 10\n",
    "train = expr_data[:-test_days]\n",
    "test = expr_data[-test_days:]\n",
    "Y_test = y_scaled[-10:]\n",
    "X_test = X_scaled[-10:]\n",
    "Y_train = y_scaled[:-10]\n",
    "X_train = X_scaled[:-10]"
   ]
  },
  {
   "cell_type": "code",
   "execution_count": 181,
   "id": "56d2371a-c9ae-4ce3-96f4-589c0ca9d6d6",
   "metadata": {},
   "outputs": [
    {
     "name": "stdout",
     "output_type": "stream",
     "text": [
      "Epoch 1/20\n"
     ]
    },
    {
     "name": "stderr",
     "output_type": "stream",
     "text": [
      "C:\\Users\\singh\\AppData\\Local\\Programs\\Python\\Python311\\Lib\\site-packages\\keras\\src\\layers\\rnn\\rnn.py:204: UserWarning: Do not pass an `input_shape`/`input_dim` argument to a layer. When using Sequential models, prefer using an `Input(shape)` object as the first layer in the model instead.\n",
      "  super().__init__(**kwargs)\n"
     ]
    },
    {
     "name": "stdout",
     "output_type": "stream",
     "text": [
      "1451/1451 - 5s - 3ms/step - loss: 0.0113 - val_loss: 0.0141\n",
      "Epoch 2/20\n",
      "1451/1451 - 3s - 2ms/step - loss: 0.0084 - val_loss: 0.0147\n",
      "Epoch 3/20\n",
      "1451/1451 - 3s - 2ms/step - loss: 0.0083 - val_loss: 0.0151\n",
      "Epoch 4/20\n",
      "1451/1451 - 3s - 2ms/step - loss: 0.0082 - val_loss: 0.0141\n",
      "Epoch 5/20\n",
      "1451/1451 - 3s - 2ms/step - loss: 0.0082 - val_loss: 0.0140\n",
      "Epoch 6/20\n",
      "1451/1451 - 3s - 2ms/step - loss: 0.0082 - val_loss: 0.0140\n",
      "Epoch 7/20\n",
      "1451/1451 - 3s - 2ms/step - loss: 0.0080 - val_loss: 0.0141\n",
      "Epoch 8/20\n",
      "1451/1451 - 3s - 2ms/step - loss: 0.0081 - val_loss: 0.0144\n",
      "Epoch 9/20\n",
      "1451/1451 - 3s - 2ms/step - loss: 0.0079 - val_loss: 0.0139\n",
      "Epoch 10/20\n",
      "1451/1451 - 3s - 2ms/step - loss: 0.0079 - val_loss: 0.0144\n",
      "Epoch 11/20\n",
      "1451/1451 - 3s - 2ms/step - loss: 0.0079 - val_loss: 0.0139\n",
      "Epoch 12/20\n",
      "1451/1451 - 3s - 2ms/step - loss: 0.0078 - val_loss: 0.0140\n",
      "Epoch 13/20\n",
      "1451/1451 - 3s - 2ms/step - loss: 0.0077 - val_loss: 0.0138\n",
      "Epoch 14/20\n",
      "1451/1451 - 3s - 2ms/step - loss: 0.0077 - val_loss: 0.0138\n",
      "Epoch 15/20\n",
      "1451/1451 - 3s - 2ms/step - loss: 0.0077 - val_loss: 0.0139\n",
      "Epoch 16/20\n",
      "1451/1451 - 3s - 2ms/step - loss: 0.0076 - val_loss: 0.0135\n",
      "Epoch 17/20\n",
      "1451/1451 - 3s - 2ms/step - loss: 0.0077 - val_loss: 0.0133\n",
      "Epoch 18/20\n",
      "1451/1451 - 3s - 2ms/step - loss: 0.0077 - val_loss: 0.0137\n",
      "Epoch 19/20\n",
      "1451/1451 - 3s - 2ms/step - loss: 0.0076 - val_loss: 0.0136\n",
      "Epoch 20/20\n",
      "1451/1451 - 3s - 2ms/step - loss: 0.0076 - val_loss: 0.0132\n",
      "\u001b[1m1/1\u001b[0m \u001b[32m━━━━━━━━━━━━━━━━━━━━\u001b[0m\u001b[37m\u001b[0m \u001b[1m0s\u001b[0m 221ms/step\n"
     ]
    }
   ],
   "source": [
    "model = Sequential()\n",
    "model.add(LSTM(50, activation='relu', input_shape=(X_train.shape[1], X_train.shape[2])))\n",
    "model.add(Dense(1))\n",
    "model.compile(optimizer='adam', loss='mse')\n",
    "history = model.fit(X_train, Y_train, epochs=20, batch_size=1, validation_split=0.2, verbose=2)\n",
    "y_pred_scaled = model.predict(X_test)\n",
    "y_pred = scaler_y.inverse_transform(y_pred_scaled)\n",
    "y_test_inverse = scaler_y.inverse_transform(Y_test)"
   ]
  },
  {
   "cell_type": "code",
   "execution_count": 183,
   "id": "20bd9dc3-c852-4915-9ebc-62490f992498",
   "metadata": {},
   "outputs": [
    {
     "data": {
      "image/png": "[encoded data removed]",
      "text/plain": [
       "<Figure size 1000x600 with 1 Axes>"
      ]
     },
     "metadata": {},
     "output_type": "display_data"
    }
   ],
   "source": [
    "plt.figure(figsize=(10, 6))\n",
    "plt.plot(y_pred, 'r--', label='Predicted PAID_AMOUNT')\n",
    "plt.xlabel('Index')\n",
    "plt.ylabel('PAID_AMOUNT')\n",
    "plt.title('Predicted PAID_AMOUNT EXPR')\n",
    "plt.legend()\n",
    "plt.show()"
   ]
  },
  {
   "cell_type": "code",
   "execution_count": 184,
   "id": "c195fc94-4cd5-4e67-8f7b-1f7f60d9f514",
   "metadata": {},
   "outputs": [],
   "source": [
    "hrb_data = grouped_data[grouped_data['OWNER']=='HRB']\n",
    "hrb_data = hrb_data[:'2122']\n",
    "hrb_data.drop(columns=['OWNER'], inplace=True)\n",
    "X = hrb_data.drop(columns=['PAID_AMOUNT'])\n",
    "y = hrb_data['PAID_AMOUNT']"
   ]
  },
  {
   "cell_type": "code",
   "execution_count": 185,
   "id": "47b11cd6-6bd0-4dad-8104-b5b2b38554d9",
   "metadata": {},
   "outputs": [],
   "source": [
    "scaler_X = MinMaxScaler()\n",
    "X_scaled = scaler_X.fit_transform(X)\n",
    "scaler_y = MinMaxScaler()\n",
    "y_scaled = scaler_y.fit_transform(y.values.reshape(-1, 1))\n",
    "X_scaled = X_scaled.reshape((X_scaled.shape[0], 1, X_scaled.shape[1]))"
   ]
  },
  {
   "cell_type": "code",
   "execution_count": 186,
   "id": "5bf7f111-5e51-4c60-9e8c-b496770fc9e1",
   "metadata": {},
   "outputs": [],
   "source": [
    "test_days = 10\n",
    "train = hrb_data[:-test_days]\n",
    "test = hrb_data[-test_days:]\n",
    "Y_test = y_scaled[-10:]\n",
    "X_test = X_scaled[-10:]\n",
    "Y_train = y_scaled[:-10]\n",
    "X_train = X_scaled[:-10]"
   ]
  },
  {
   "cell_type": "code",
   "execution_count": 187,
   "id": "20c5be86-9256-49a1-aaeb-6e6ac81d2a67",
   "metadata": {},
   "outputs": [
    {
     "name": "stdout",
     "output_type": "stream",
     "text": [
      "Epoch 1/20\n"
     ]
    },
    {
     "name": "stderr",
     "output_type": "stream",
     "text": [
      "C:\\Users\\singh\\AppData\\Local\\Programs\\Python\\Python311\\Lib\\site-packages\\keras\\src\\layers\\rnn\\rnn.py:204: UserWarning: Do not pass an `input_shape`/`input_dim` argument to a layer. When using Sequential models, prefer using an `Input(shape)` object as the first layer in the model instead.\n",
      "  super().__init__(**kwargs)\n"
     ]
    },
    {
     "name": "stdout",
     "output_type": "stream",
     "text": [
      "1451/1451 - 5s - 4ms/step - loss: 0.0148 - val_loss: 0.0076\n",
      "Epoch 2/20\n",
      "1451/1451 - 3s - 2ms/step - loss: 0.0079 - val_loss: 0.0071\n",
      "Epoch 3/20\n",
      "1451/1451 - 3s - 2ms/step - loss: 0.0072 - val_loss: 0.0084\n",
      "Epoch 4/20\n",
      "1451/1451 - 3s - 2ms/step - loss: 0.0069 - val_loss: 0.0069\n",
      "Epoch 5/20\n",
      "1451/1451 - 4s - 2ms/step - loss: 0.0066 - val_loss: 0.0073\n",
      "Epoch 6/20\n",
      "1451/1451 - 3s - 2ms/step - loss: 0.0065 - val_loss: 0.0088\n",
      "Epoch 7/20\n",
      "1451/1451 - 2s - 2ms/step - loss: 0.0063 - val_loss: 0.0081\n",
      "Epoch 8/20\n",
      "1451/1451 - 3s - 2ms/step - loss: 0.0063 - val_loss: 0.0072\n",
      "Epoch 9/20\n",
      "1451/1451 - 3s - 2ms/step - loss: 0.0062 - val_loss: 0.0086\n",
      "Epoch 10/20\n",
      "1451/1451 - 3s - 2ms/step - loss: 0.0061 - val_loss: 0.0095\n",
      "Epoch 11/20\n",
      "1451/1451 - 4s - 2ms/step - loss: 0.0060 - val_loss: 0.0083\n",
      "Epoch 12/20\n",
      "1451/1451 - 3s - 2ms/step - loss: 0.0060 - val_loss: 0.0072\n",
      "Epoch 13/20\n",
      "1451/1451 - 3s - 2ms/step - loss: 0.0059 - val_loss: 0.0099\n",
      "Epoch 14/20\n",
      "1451/1451 - 3s - 2ms/step - loss: 0.0058 - val_loss: 0.0087\n",
      "Epoch 15/20\n",
      "1451/1451 - 3s - 2ms/step - loss: 0.0058 - val_loss: 0.0068\n",
      "Epoch 16/20\n",
      "1451/1451 - 3s - 2ms/step - loss: 0.0058 - val_loss: 0.0080\n",
      "Epoch 17/20\n",
      "1451/1451 - 3s - 2ms/step - loss: 0.0057 - val_loss: 0.0071\n",
      "Epoch 18/20\n",
      "1451/1451 - 3s - 2ms/step - loss: 0.0057 - val_loss: 0.0071\n",
      "Epoch 19/20\n",
      "1451/1451 - 3s - 2ms/step - loss: 0.0056 - val_loss: 0.0064\n",
      "Epoch 20/20\n",
      "1451/1451 - 4s - 2ms/step - loss: 0.0056 - val_loss: 0.0078\n",
      "\u001b[1m1/1\u001b[0m \u001b[32m━━━━━━━━━━━━━━━━━━━━\u001b[0m\u001b[37m\u001b[0m \u001b[1m0s\u001b[0m 138ms/step\n"
     ]
    }
   ],
   "source": [
    "model = Sequential()\n",
    "model.add(LSTM(50, activation='relu', input_shape=(X_train.shape[1], X_train.shape[2])))\n",
    "model.add(Dense(1))\n",
    "model.compile(optimizer='adam', loss='mse')\n",
    "history = model.fit(X_train, Y_train, epochs=20, batch_size=1, validation_split=0.2, verbose=2)\n",
    "y_pred_scaled = model.predict(X_test)\n",
    "y_pred = scaler_y.inverse_transform(y_pred_scaled)\n",
    "y_test_inverse = scaler_y.inverse_transform(Y_test)"
   ]
  },
  {
   "cell_type": "code",
   "execution_count": 188,
   "id": "f33e4ade-d51f-42f4-9b91-e8223594c19a",
   "metadata": {},
   "outputs": [
    {
     "name": "stdout",
     "output_type": "stream",
     "text": [
      "Mean Absolute  Error (MAPE): 31.80%\n"
     ]
    }
   ],
   "source": [
    "mape = mean_absolute_percentage_error(y_test_inverse, y_pred) * 100\n",
    "print(f\"Mean Absolute  Error (MAPE): {mape:.2f}%\")"
   ]
  },
  {
   "cell_type": "code",
   "execution_count": 189,
   "id": "2b1aa596-e6cf-4f73-a97b-cf2060af69af",
   "metadata": {},
   "outputs": [
    {
     "data": {
      "image/png": "[encoded data removed]",
      "text/plain": [
       "<Figure size 1000x600 with 1 Axes>"
      ]
     },
     "metadata": {},
     "output_type": "display_data"
    }
   ],
   "source": [
    "plt.figure(figsize=(10, 6))\n",
    "plt.plot(y_pred, 'r--', label='Predicted PAID_AMOUNT')\n",
    "plt.xlabel('Index')\n",
    "plt.ylabel('PAID_AMOUNT')\n",
    "plt.title('Predicted PAID_AMOUNT HRB')\n",
    "plt.legend()\n",
    "plt.show()"
   ]
  },
  {
   "cell_type": "code",
   "execution_count": 190,
   "id": "c5911da7-630e-4b5e-8ec9-a7dfc48802cf",
   "metadata": {},
   "outputs": [],
   "source": [
    "kcg_data = grouped_data[grouped_data['OWNER']=='KCG']\n",
    "kcg_data = kcg_data[:'2122']\n",
    "kcg_data.drop(columns=['OWNER'], inplace=True)\n",
    "X = kcg_data.drop(columns=['PAID_AMOUNT'])\n",
    "y = kcg_data['PAID_AMOUNT']"
   ]
  },
  {
   "cell_type": "code",
   "execution_count": 191,
   "id": "10b1b2fe-45be-43b9-9fc1-b54f416d3e7a",
   "metadata": {},
   "outputs": [],
   "source": [
    "scaler_X = MinMaxScaler()\n",
    "X_scaled = scaler_X.fit_transform(X)\n",
    "scaler_y = MinMaxScaler()\n",
    "y_scaled = scaler_y.fit_transform(y.values.reshape(-1, 1))\n",
    "X_scaled = X_scaled.reshape((X_scaled.shape[0], 1, X_scaled.shape[1]))"
   ]
  },
  {
   "cell_type": "code",
   "execution_count": 192,
   "id": "d896b4b2-fb3f-4e65-a688-c622f122c727",
   "metadata": {},
   "outputs": [],
   "source": [
    "test_days = 10\n",
    "train = kcg_data[:-test_days]\n",
    "test = kcg_data[-test_days:]\n",
    "Y_test = y_scaled[-10:]\n",
    "X_test = X_scaled[-10:]\n",
    "Y_train = y_scaled[:-10]\n",
    "X_train = X_scaled[:-10]"
   ]
  },
  {
   "cell_type": "code",
   "execution_count": 193,
   "id": "5cf7ff47-c66b-432a-a5b8-3e1384683b03",
   "metadata": {},
   "outputs": [
    {
     "name": "stdout",
     "output_type": "stream",
     "text": [
      "Epoch 1/20\n"
     ]
    },
    {
     "name": "stderr",
     "output_type": "stream",
     "text": [
      "C:\\Users\\singh\\AppData\\Local\\Programs\\Python\\Python311\\Lib\\site-packages\\keras\\src\\layers\\rnn\\rnn.py:204: UserWarning: Do not pass an `input_shape`/`input_dim` argument to a layer. When using Sequential models, prefer using an `Input(shape)` object as the first layer in the model instead.\n",
      "  super().__init__(**kwargs)\n"
     ]
    },
    {
     "name": "stdout",
     "output_type": "stream",
     "text": [
      "1451/1451 - 5s - 3ms/step - loss: 0.0132 - val_loss: 0.0088\n",
      "Epoch 2/20\n",
      "1451/1451 - 4s - 2ms/step - loss: 0.0059 - val_loss: 0.0084\n",
      "Epoch 3/20\n",
      "1451/1451 - 4s - 3ms/step - loss: 0.0058 - val_loss: 0.0083\n",
      "Epoch 4/20\n",
      "1451/1451 - 4s - 3ms/step - loss: 0.0054 - val_loss: 0.0078\n",
      "Epoch 5/20\n",
      "1451/1451 - 4s - 3ms/step - loss: 0.0052 - val_loss: 0.0076\n",
      "Epoch 6/20\n",
      "1451/1451 - 4s - 3ms/step - loss: 0.0050 - val_loss: 0.0074\n",
      "Epoch 7/20\n",
      "1451/1451 - 4s - 3ms/step - loss: 0.0049 - val_loss: 0.0066\n",
      "Epoch 8/20\n",
      "1451/1451 - 4s - 3ms/step - loss: 0.0048 - val_loss: 0.0063\n",
      "Epoch 9/20\n",
      "1451/1451 - 4s - 3ms/step - loss: 0.0046 - val_loss: 0.0069\n",
      "Epoch 10/20\n",
      "1451/1451 - 4s - 3ms/step - loss: 0.0046 - val_loss: 0.0063\n",
      "Epoch 11/20\n",
      "1451/1451 - 4s - 3ms/step - loss: 0.0044 - val_loss: 0.0061\n",
      "Epoch 12/20\n",
      "1451/1451 - 4s - 3ms/step - loss: 0.0044 - val_loss: 0.0068\n",
      "Epoch 13/20\n",
      "1451/1451 - 4s - 2ms/step - loss: 0.0044 - val_loss: 0.0061\n",
      "Epoch 14/20\n",
      "1451/1451 - 4s - 3ms/step - loss: 0.0042 - val_loss: 0.0060\n",
      "Epoch 15/20\n",
      "1451/1451 - 4s - 3ms/step - loss: 0.0042 - val_loss: 0.0070\n",
      "Epoch 16/20\n",
      "1451/1451 - 4s - 3ms/step - loss: 0.0041 - val_loss: 0.0065\n",
      "Epoch 17/20\n",
      "1451/1451 - 3s - 2ms/step - loss: 0.0042 - val_loss: 0.0057\n",
      "Epoch 18/20\n",
      "1451/1451 - 3s - 2ms/step - loss: 0.0041 - val_loss: 0.0066\n",
      "Epoch 19/20\n",
      "1451/1451 - 3s - 2ms/step - loss: 0.0041 - val_loss: 0.0059\n",
      "Epoch 20/20\n",
      "1451/1451 - 3s - 2ms/step - loss: 0.0041 - val_loss: 0.0060\n",
      "\u001b[1m1/1\u001b[0m \u001b[32m━━━━━━━━━━━━━━━━━━━━\u001b[0m\u001b[37m\u001b[0m \u001b[1m0s\u001b[0m 115ms/step\n"
     ]
    }
   ],
   "source": [
    "model = Sequential()\n",
    "model.add(LSTM(50, activation='relu', input_shape=(X_train.shape[1], X_train.shape[2])))\n",
    "model.add(Dense(1))\n",
    "model.compile(optimizer='adam', loss='mse')\n",
    "history = model.fit(X_train, Y_train, epochs=20, batch_size=1, validation_split=0.2, verbose=2)\n",
    "y_pred_scaled = model.predict(X_test)\n",
    "y_pred = scaler_y.inverse_transform(y_pred_scaled)\n",
    "y_test_inverse = scaler_y.inverse_transform(Y_test)"
   ]
  },
  {
   "cell_type": "code",
   "execution_count": 194,
   "id": "8599d860-5e2a-4bb4-aca1-cc8ef593ba00",
   "metadata": {},
   "outputs": [
    {
     "name": "stdout",
     "output_type": "stream",
     "text": [
      "Mean Absolute  Error (MAPE): 15.66%\n"
     ]
    }
   ],
   "source": [
    "mape = mean_absolute_percentage_error(y_test_inverse, y_pred) * 100\n",
    "print(f\"Mean Absolute  Error (MAPE): {mape:.2f}%\")"
   ]
  },
  {
   "cell_type": "code",
   "execution_count": 195,
   "id": "857227ee-55e9-47ca-a7df-07cbe232e30d",
   "metadata": {},
   "outputs": [
    {
     "data": {
      "image/png": "[encoded data removed]",
      "text/plain": [
       "<Figure size 1000x600 with 1 Axes>"
      ]
     },
     "metadata": {},
     "output_type": "display_data"
    }
   ],
   "source": [
    "plt.figure(figsize=(10, 6))\n",
    "plt.plot(y_pred, 'r--', label='Predicted PAID_AMOUNT')\n",
    "plt.xlabel('Index')\n",
    "plt.ylabel('PAID_AMOUNT')\n",
    "plt.title('Predicted PAID_AMOUNT KCG')\n",
    "plt.legend()\n",
    "plt.show()"
   ]
  },
  {
   "cell_type": "code",
   "execution_count": 196,
   "id": "2e868bf4-bb9f-4553-b667-01d19c699f29",
   "metadata": {},
   "outputs": [],
   "source": [
    "scb_data = grouped_data[grouped_data['OWNER']=='SCB']\n",
    "scb_data = scb_data[:'2122']\n",
    "scb_data.drop(columns=['OWNER'], inplace=True)\n",
    "X = scb_data.drop(columns=['PAID_AMOUNT'])\n",
    "y = scb_data['PAID_AMOUNT']"
   ]
  },
  {
   "cell_type": "code",
   "execution_count": 197,
   "id": "1413a71a-22b0-4153-abf0-04ae7e5d8ce7",
   "metadata": {},
   "outputs": [],
   "source": [
    "scaler_X = MinMaxScaler()\n",
    "X_scaled = scaler_X.fit_transform(X)\n",
    "scaler_y = MinMaxScaler()\n",
    "y_scaled = scaler_y.fit_transform(y.values.reshape(-1, 1))\n",
    "X_scaled = X_scaled.reshape((X_scaled.shape[0], 1, X_scaled.shape[1]))"
   ]
  },
  {
   "cell_type": "code",
   "execution_count": 198,
   "id": "c922a9ea-7108-4c84-859c-d73713934bf4",
   "metadata": {},
   "outputs": [],
   "source": [
    "test_days = 10\n",
    "train = scb_data[:-test_days]\n",
    "test = scb_data[-test_days:]\n",
    "Y_test = y_scaled[-10:]\n",
    "X_test = X_scaled[-10:]\n",
    "Y_train = y_scaled[:-10]\n",
    "X_train = X_scaled[:-10]"
   ]
  },
  {
   "cell_type": "code",
   "execution_count": 199,
   "id": "ec49692e-5d14-4df3-85f4-0cf87af369ae",
   "metadata": {},
   "outputs": [
    {
     "name": "stdout",
     "output_type": "stream",
     "text": [
      "Epoch 1/20\n"
     ]
    },
    {
     "name": "stderr",
     "output_type": "stream",
     "text": [
      "C:\\Users\\singh\\AppData\\Local\\Programs\\Python\\Python311\\Lib\\site-packages\\keras\\src\\layers\\rnn\\rnn.py:204: UserWarning: Do not pass an `input_shape`/`input_dim` argument to a layer. When using Sequential models, prefer using an `Input(shape)` object as the first layer in the model instead.\n",
      "  super().__init__(**kwargs)\n"
     ]
    },
    {
     "name": "stdout",
     "output_type": "stream",
     "text": [
      "1451/1451 - 5s - 3ms/step - loss: 0.0344 - val_loss: 0.0305\n",
      "Epoch 2/20\n",
      "1451/1451 - 3s - 2ms/step - loss: 0.0271 - val_loss: 0.0296\n",
      "Epoch 3/20\n",
      "1451/1451 - 3s - 2ms/step - loss: 0.0256 - val_loss: 0.0270\n",
      "Epoch 4/20\n",
      "1451/1451 - 3s - 2ms/step - loss: 0.0242 - val_loss: 0.0279\n",
      "Epoch 5/20\n",
      "1451/1451 - 4s - 3ms/step - loss: 0.0231 - val_loss: 0.0260\n",
      "Epoch 6/20\n",
      "1451/1451 - 3s - 2ms/step - loss: 0.0226 - val_loss: 0.0265\n",
      "Epoch 7/20\n",
      "1451/1451 - 4s - 3ms/step - loss: 0.0219 - val_loss: 0.0252\n",
      "Epoch 8/20\n",
      "1451/1451 - 4s - 3ms/step - loss: 0.0217 - val_loss: 0.0261\n",
      "Epoch 9/20\n",
      "1451/1451 - 4s - 3ms/step - loss: 0.0215 - val_loss: 0.0260\n",
      "Epoch 10/20\n",
      "1451/1451 - 4s - 3ms/step - loss: 0.0212 - val_loss: 0.0255\n",
      "Epoch 11/20\n",
      "1451/1451 - 4s - 3ms/step - loss: 0.0210 - val_loss: 0.0258\n",
      "Epoch 12/20\n",
      "1451/1451 - 4s - 3ms/step - loss: 0.0210 - val_loss: 0.0247\n",
      "Epoch 13/20\n",
      "1451/1451 - 3s - 2ms/step - loss: 0.0210 - val_loss: 0.0251\n",
      "Epoch 14/20\n",
      "1451/1451 - 4s - 3ms/step - loss: 0.0210 - val_loss: 0.0250\n",
      "Epoch 15/20\n",
      "1451/1451 - 4s - 3ms/step - loss: 0.0204 - val_loss: 0.0254\n",
      "Epoch 16/20\n",
      "1451/1451 - 4s - 3ms/step - loss: 0.0209 - val_loss: 0.0272\n",
      "Epoch 17/20\n",
      "1451/1451 - 4s - 3ms/step - loss: 0.0206 - val_loss: 0.0255\n",
      "Epoch 18/20\n",
      "1451/1451 - 3s - 2ms/step - loss: 0.0204 - val_loss: 0.0263\n",
      "Epoch 19/20\n",
      "1451/1451 - 4s - 2ms/step - loss: 0.0205 - val_loss: 0.0254\n",
      "Epoch 20/20\n",
      "1451/1451 - 4s - 3ms/step - loss: 0.0204 - val_loss: 0.0233\n",
      "\u001b[1m1/1\u001b[0m \u001b[32m━━━━━━━━━━━━━━━━━━━━\u001b[0m\u001b[37m\u001b[0m \u001b[1m0s\u001b[0m 163ms/step\n"
     ]
    }
   ],
   "source": [
    "model = Sequential()\n",
    "model.add(LSTM(50, activation='relu', input_shape=(X_train.shape[1], X_train.shape[2])))\n",
    "model.add(Dense(1))\n",
    "model.compile(optimizer='adam', loss='mse')\n",
    "history = model.fit(X_train, Y_train, epochs=20, batch_size=1, validation_split=0.2, verbose=2)\n",
    "y_pred_scaled = model.predict(X_test)\n",
    "y_pred = scaler_y.inverse_transform(y_pred_scaled)\n",
    "y_test_inverse = scaler_y.inverse_transform(Y_test)"
   ]
  },
  {
   "cell_type": "code",
   "execution_count": 200,
   "id": "216af0d9-99d9-433c-8914-31f66347a723",
   "metadata": {},
   "outputs": [
    {
     "name": "stdout",
     "output_type": "stream",
     "text": [
      "Mean Absolute  Error (MAPE): 51.75%\n"
     ]
    }
   ],
   "source": [
    "mape = mean_absolute_percentage_error(y_test_inverse, y_pred) * 100\n",
    "print(f\"Mean Absolute  Error (MAPE): {mape:.2f}%\")"
   ]
  },
  {
   "cell_type": "code",
   "execution_count": 201,
   "id": "038a3a14-404a-44ab-8cde-f2d86d0bcb74",
   "metadata": {},
   "outputs": [
    {
     "data": {
      "image/png": "[encoded data removed]",
      "text/plain": [
       "<Figure size 1000x600 with 1 Axes>"
      ]
     },
     "metadata": {},
     "output_type": "display_data"
    }
   ],
   "source": [
    "plt.figure(figsize=(10, 6))\n",
    "plt.plot(y_pred, 'r--', label='Predicted PAID_AMOUNT')\n",
    "plt.xlabel('Index')\n",
    "plt.ylabel('PAID_AMOUNT')\n",
    "plt.title('Predicted PAID_AMOUNT SCB')\n",
    "plt.legend()\n",
    "plt.show()"
   ]
  },
  {
   "cell_type": "code",
   "execution_count": null,
   "id": "5006fff2-05ac-4365-a4ea-e0061939742e",
   "metadata": {},
   "outputs": [],
   "source": []
  }
 ],
 "metadata": {
  "kernelspec": {
   "display_name": "Python 3 (ipykernel)",
   "language": "python",
   "name": "python3"
  },
  "language_info": {
   "codemirror_mode": {
    "name": "ipython",
    "version": 3
   },
   "file_extension": ".py",
   "mimetype": "text/x-python",
   "name": "python",
   "nbconvert_exporter": "python",
   "pygments_lexer": "ipython3",
   "version": "3.11.5"
  }
 },
 "nbformat": 4,
 "nbformat_minor": 5
}
